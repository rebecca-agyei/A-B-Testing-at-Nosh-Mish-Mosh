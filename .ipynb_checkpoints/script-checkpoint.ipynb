{
 "cells": [
  {
   "cell_type": "code",
   "execution_count": null,
   "id": "49bcb33c",
   "metadata": {},
   "outputs": [],
   "source": [
    "import noshmishmosh\n",
    "import numpy as np\n",
    "\n",
    "# A/B Testing at Nosh Mish Mosh\n",
    "\n",
    "all_visitors = noshmishmosh.customer_visits\n",
    "# print(all_visitors)\n",
    "\n",
    "paying_visitors = noshmishmosh.purchasing_customers \n",
    "# print(paying_visitors)\n",
    "\n",
    "total_visitor_count = len(all_visitors)\n",
    "paying_visitor_count = len(paying_visitors)\n",
    "# print(total_visitor_count)\n",
    "# print(paying_visitor_count)\n",
    "\n",
    "baseline_percent = (paying_visitor_count / total_visitor_count) * 100\n",
    "print(\"Baseline Coversion Rate = \" + str(baseline_percent))\n",
    "\n",
    "\n",
    "# Mish Mosh B'Gosh: the Lift\n",
    "\n",
    "payment_history = noshmishmosh.money_spent\n",
    "average_payment = np.mean(payment_history)\n",
    "\n",
    "new_customers_needed = np.ceil(1240 / average_payment)\n",
    "\n",
    "lift = (percentage_point_increase / baseline_percent) * 100\n",
    "print(\"Minimum desired lift = \" + str(lift))\n",
    "\n",
    "\n",
    "# Nosh Mish Mosh: Tying It All Together\n",
    "\n",
    "statistical_significance_threshold = 0.10\n",
    "\n",
    "ab_sample_size = 495\n",
    "\n",
    "\n",
    "\n"
   ]
  }
 ],
 "metadata": {
  "kernelspec": {
   "display_name": "Python 3",
   "language": "python",
   "name": "python3"
  },
  "language_info": {
   "codemirror_mode": {
    "name": "ipython",
    "version": 3
   },
   "file_extension": ".py",
   "mimetype": "text/x-python",
   "name": "python",
   "nbconvert_exporter": "python",
   "pygments_lexer": "ipython3",
   "version": "3.8.8"
  }
 },
 "nbformat": 4,
 "nbformat_minor": 5
}
